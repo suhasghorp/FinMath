{
 "cells": [
  {
   "cell_type": "markdown",
   "metadata": {},
   "source": [
    "# Financial Algebra #"
   ]
  },
  {
   "cell_type": "markdown",
   "metadata": {
    "collapsed": true
   },
   "source": [
    "### My refresher notes on Algebra commonly used in Finance ###"
   ]
  },
  {
   "cell_type": "markdown",
   "metadata": {},
   "source": [
    "\\begin{align}\n",
    "(AB)^{-1} = B^{-1}A^{-1}\n",
    "\\end{align}\n",
    "\n",
    "A matrix that has an inverse is called *Non Singular Matrix*, otherwise its called \n",
    "*Singular Matrix*. A singular matrix has at least one row (or column) that has a linear \n",
    "relationship with another row (or column).\n"
   ]
  },
  {
   "cell_type": "markdown",
   "metadata": {},
   "source": [
    "### Determinant of a matrix ###\n",
    "\n",
    "$$det(A) = |A| = det\n",
    " \\begin{bmatrix}\n",
    "  a & b \\\\\n",
    "  c & d \\\\  \n",
    " \\end{bmatrix} = \\mathbf{ad} - \\mathbf{bc} $$\n",
    "Determinant of a matrix is zero if the matrix is singular. A matrix with zero determinant has no inverse. To inverse a matrix, use determinant and cofactors as below\n",
    "$$\\mathbf{A}^{-1} = \\begin{bmatrix}\n",
    "  a & b \\\\\n",
    "  c & d \\\\  \n",
    " \\end{bmatrix}^{-1} = \\frac{1}{\\mid A \\mid} = \\frac{1}{\\mathbf{ad} - \\mathbf{bc}} \\begin{bmatrix}\n",
    "  d & -b \\\\\n",
    "  -c & a \\\\  \n",
    " \\end{bmatrix}$$"
   ]
  },
  {
   "cell_type": "code",
   "execution_count": null,
   "metadata": {
    "collapsed": true
   },
   "outputs": [],
   "source": [
    ""
   ]
  }
 ],
 "metadata": {
  "anaconda-cloud": {},
  "kernelspec": {
   "display_name": "Python [Root]",
   "language": "python",
   "name": "Python [Root]"
  },
  "language_info": {
   "codemirror_mode": {
    "name": "ipython",
    "version": 2.0
   },
   "file_extension": ".py",
   "mimetype": "text/x-python",
   "name": "python",
   "nbconvert_exporter": "python",
   "pygments_lexer": "ipython2",
   "version": "2.7.11"
  }
 },
 "nbformat": 4,
 "nbformat_minor": 0
}