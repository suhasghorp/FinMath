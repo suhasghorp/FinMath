{
 "cells": [
  {
   "cell_type": "code",
   "execution_count": null,
   "metadata": {
    "collapsed": true
   },
   "outputs": [],
   "source": [
    "# Imports from __future__ in case we're running Python 2\n",
    "from __future__ import division, print_function\n",
    "from __future__ import absolute_import, unicode_literals\n",
    "\n",
    "# Our numerical workhorses\n",
    "import numpy as np\n",
    "import scipy.integrate\n",
    "\n",
    "# Import pyplot for plotting\n",
    "import matplotlib.pyplot as plt\n",
    "\n",
    "# Seaborn, useful for graphics\n",
    "import seaborn as sns\n",
    "\n",
    "# Import Bokeh modules for interactive plotting\n",
    "import bokeh.io\n",
    "import bokeh.mpl\n",
    "import bokeh.plotting\n",
    "\n",
    "# Magic function to make matplotlib inline; other style specs must come AFTER\n",
    "%matplotlib inline\n",
    "\n",
    "# This enables SVG graphics inline.  There is a bug, so uncomment if it works.\n",
    "# %config InlineBackend.figure_formats = {'svg',}\n",
    "\n",
    "# This enables high resolution PNGs. SVG is preferred, but has problems\n",
    "# rendering vertical and horizontal lines\n",
    "%config InlineBackend.figure_formats = {'png', 'retina'}\n",
    "\n",
    "# JB's favorite Seaborn settings for notebooks\n",
    "rc = {'lines.linewidth': 2, \n",
    "      'axes.labelsize': 18, \n",
    "      'axes.titlesize': 18, \n",
    "      'axes.facecolor': 'DFDFE5'}\n",
    "sns.set_context('notebook', rc=rc)\n",
    "sns.set_style('darkgrid', rc=rc)\n",
    "\n",
    "# Set up Bokeh for inline viewing\n",
    "bokeh.io.output_notebook()"
   ]
  },
  {
   "cell_type": "markdown",
   "metadata": {},
   "source": [
    "# Financial Algebra #"
   ]
  },
  {
   "cell_type": "markdown",
   "metadata": {
    "collapsed": true
   },
   "source": [
    "### My refresher notes on Algebra commonly used in Finance ###"
   ]
  },
  {
   "cell_type": "markdown",
   "metadata": {},
   "source": [
    "\\begin{align}\n",
    "(AB)^{-1} = B^{-1}A^{-1}\n",
    "\\end{align}\n",
    "\n",
    "A matrix that has an inverse is called *Non Singular Matrix*, otherwise its called \n",
    "*Singular Matrix*. A singular matrix has at least one row (or column) that has a linear \n",
    "relationship with another row (or column).\n"
   ]
  },
  {
   "cell_type": "markdown",
   "metadata": {},
   "source": [
    "### Determinant of a matrix ###\n",
    "\n",
    "$$det(A) = |A| = det\n",
    " \\begin{bmatrix}\n",
    "  a & b \\\\\n",
    "  c & d \\\\  \n",
    " \\end{bmatrix} = \\mathbf{ad} - \\mathbf{bc} $$\n",
    "Determinant of a matrix is zero if the matrix is singular. A matrix with zero determinant has no inverse. To inverse a matrix, use determinant and cofactors as below\n",
    "$$\\mathbf{A}^{-1} = \\begin{bmatrix}\n",
    "  a & b \\\\\n",
    "  c & d \\\\  \n",
    " \\end{bmatrix}^{-1} = \\frac{1}{\\mid A \\mid} = \\frac{1}{\\mathbf{ad} - \\mathbf{bc}} \\begin{bmatrix}\n",
    "  d & -b \\\\\n",
    "  -c & a \\\\  \n",
    " \\end{bmatrix}$$"
   ]
  },
  {
   "cell_type": "code",
   "execution_count": null,
   "metadata": {
    "collapsed": true
   },
   "outputs": [],
   "source": [
    "A = np.array[[1,2],[3,4]]\n",
    "det = np.linalg.det(A)\n",
    "print det\n",
    "def matrix_cofactor(matrix):\n",
    "    C = np.zeros(matrix.shape)\n",
    "    nrows, ncols = C.shape\n",
    "    for row in xrange(nrows):\n",
    "        for col in xrange(ncols):\n",
    "            minor = matrix[np.array(range(row)+range(row+1,nrows))[:,np.newaxis],\n",
    "                           np.array(range(col)+range(col+1,ncols))]\n",
    "            C[row, col] = (-1)**(row+col) * np.linalg.det(minor)\n",
    "    return C\n",
    "cofactorMatrix = matrix_cofactor(np.asmatrix(A))\n",
    "prnt cofactorMatrix\n",
    "a_inverse = np.multiply(det, cofactorMatrix)\n",
    "print (a_inverse)"
   ]
  },
  {
   "cell_type": "code",
   "execution_count": null,
   "metadata": {
    "collapsed": true
   },
   "outputs": [],
   "source": [
    ""
   ]
  }
 ],
 "metadata": {
  "anaconda-cloud": {},
  "kernelspec": {
   "display_name": "Python 2",
   "language": "python",
   "name": "python2"
  },
  "language_info": {
   "codemirror_mode": {
    "name": "ipython",
    "version": 2.0
   },
   "file_extension": ".py",
   "mimetype": "text/x-python",
   "name": "python",
   "nbconvert_exporter": "python",
   "pygments_lexer": "ipython2",
   "version": "2.7.12"
  }
 },
 "nbformat": 4,
 "nbformat_minor": 0
}