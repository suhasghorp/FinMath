{
 "cells": [
  {
   "cell_type": "code",
   "execution_count": 4,
   "metadata": {
    "collapsed": false
   },
   "outputs": [
    {
     "data": {
      "text/html": [
       "\n",
       "    <div class=\"bk-root\">\n",
       "        <a href=\"http://bokeh.pydata.org\" target=\"_blank\" class=\"bk-logo bk-logo-small bk-logo-notebook\"></a>\n",
       "        <span id=\"f60cd086-b6e8-4faa-9888-8fa4bb2323aa\">Loading BokehJS ...</span>\n",
       "    </div>"
      ]
     },
     "metadata": {},
     "output_type": "display_data"
    },
    {
     "data": {
      "application/javascript": [
       "\n",
       "(function(global) {\n",
       "  function now() {\n",
       "    return new Date();\n",
       "  }\n",
       "\n",
       "  if (typeof (window._bokeh_onload_callbacks) === \"undefined\") {\n",
       "    window._bokeh_onload_callbacks = [];\n",
       "  }\n",
       "\n",
       "  function run_callbacks() {\n",
       "    window._bokeh_onload_callbacks.forEach(function(callback) { callback() });\n",
       "    delete window._bokeh_onload_callbacks\n",
       "    console.info(\"Bokeh: all callbacks have finished\");\n",
       "  }\n",
       "\n",
       "  function load_libs(js_urls, callback) {\n",
       "    window._bokeh_onload_callbacks.push(callback);\n",
       "    if (window._bokeh_is_loading > 0) {\n",
       "      console.log(\"Bokeh: BokehJS is being loaded, scheduling callback at\", now());\n",
       "      return null;\n",
       "    }\n",
       "    if (js_urls == null || js_urls.length === 0) {\n",
       "      run_callbacks();\n",
       "      return null;\n",
       "    }\n",
       "    console.log(\"Bokeh: BokehJS not loaded, scheduling load and callback at\", now());\n",
       "    window._bokeh_is_loading = js_urls.length;\n",
       "    for (var i = 0; i < js_urls.length; i++) {\n",
       "      var url = js_urls[i];\n",
       "      var s = document.createElement('script');\n",
       "      s.src = url;\n",
       "      s.async = false;\n",
       "      s.onreadystatechange = s.onload = function() {\n",
       "        window._bokeh_is_loading--;\n",
       "        if (window._bokeh_is_loading === 0) {\n",
       "          console.log(\"Bokeh: all BokehJS libraries loaded\");\n",
       "          run_callbacks()\n",
       "        }\n",
       "      };\n",
       "      s.onerror = function() {\n",
       "        console.warn(\"failed to load library \" + url);\n",
       "      };\n",
       "      console.log(\"Bokeh: injecting script tag for BokehJS library: \", url);\n",
       "      document.getElementsByTagName(\"head\")[0].appendChild(s);\n",
       "    }\n",
       "  };\n",
       "\n",
       "  var js_urls = ['https://cdn.pydata.org/bokeh/release/bokeh-0.12.0.min.js', 'https://cdn.pydata.org/bokeh/release/bokeh-widgets-0.12.0.min.js', 'https://cdn.pydata.org/bokeh/release/bokeh-compiler-0.12.0.min.js'];\n",
       "\n",
       "  var inline_js = [\n",
       "    function(Bokeh) {\n",
       "      Bokeh.set_log_level(\"info\");\n",
       "    },\n",
       "    \n",
       "    function(Bokeh) {\n",
       "      Bokeh.$(\"#f60cd086-b6e8-4faa-9888-8fa4bb2323aa\").text(\"BokehJS successfully loaded\");\n",
       "    },\n",
       "    function(Bokeh) {\n",
       "      console.log(\"Bokeh: injecting CSS: https://cdn.pydata.org/bokeh/release/bokeh-0.12.0.min.css\");\n",
       "      Bokeh.embed.inject_css(\"https://cdn.pydata.org/bokeh/release/bokeh-0.12.0.min.css\");\n",
       "      console.log(\"Bokeh: injecting CSS: https://cdn.pydata.org/bokeh/release/bokeh-widgets-0.12.0.min.css\");\n",
       "      Bokeh.embed.inject_css(\"https://cdn.pydata.org/bokeh/release/bokeh-widgets-0.12.0.min.css\");\n",
       "    }\n",
       "  ];\n",
       "\n",
       "  function run_inline_js() {\n",
       "    for (var i = 0; i < inline_js.length; i++) {\n",
       "      inline_js[i](window.Bokeh);\n",
       "    }\n",
       "  }\n",
       "\n",
       "  if (window._bokeh_is_loading === 0) {\n",
       "    console.log(\"Bokeh: BokehJS loaded, going straight to plotting\");\n",
       "    run_inline_js();\n",
       "  } else {\n",
       "    load_libs(js_urls, function() {\n",
       "      console.log(\"Bokeh: BokehJS plotting callback run at\", now());\n",
       "      run_inline_js();\n",
       "    });\n",
       "  }\n",
       "}(this));"
      ]
     },
     "metadata": {},
     "output_type": "display_data"
    }
   ],
   "source": [
    "# Imports from __future__ in case we're running Python 2\n",
    "\n",
    "# Our numerical workhorses\n",
    "import numpy as np\n",
    "import scipy.integrate\n",
    "\n",
    "# Import pyplot for plotting\n",
    "import matplotlib.pyplot as plt\n",
    "\n",
    "# Seaborn, useful for graphics\n",
    "import seaborn as sns\n",
    "\n",
    "# Import Bokeh modules for interactive plotting\n",
    "import bokeh.io\n",
    "import bokeh.mpl\n",
    "import bokeh.plotting\n",
    "\n",
    "# Magic function to make matplotlib inline; other style specs must come AFTER\n",
    "%matplotlib inline\n",
    "\n",
    "# This enables SVG graphics inline.  There is a bug, so uncomment if it works.\n",
    "# %config InlineBackend.figure_formats = {'svg',}\n",
    "\n",
    "# This enables high resolution PNGs. SVG is preferred, but has problems\n",
    "# rendering vertical and horizontal lines\n",
    "%config InlineBackend.figure_formats = {'png', 'retina'}\n",
    "\n",
    "# JB's favorite Seaborn settings for notebooks\n",
    "rc = {'lines.linewidth': 2, \n",
    "      'axes.labelsize': 18, \n",
    "      'axes.titlesize': 18, \n",
    "      'axes.facecolor': 'DFDFE5'}\n",
    "sns.set_context('notebook', rc=rc)\n",
    "sns.set_style('darkgrid', rc=rc)\n",
    "\n",
    "# Set up Bokeh for inline viewing\n",
    "bokeh.io.output_notebook()"
   ]
  },
  {
   "cell_type": "markdown",
   "metadata": {},
   "source": [
    "# Financial Algebra #"
   ]
  },
  {
   "cell_type": "markdown",
   "metadata": {
    "collapsed": true
   },
   "source": [
    "### My refresher notes on Algebra commonly used in Finance ###"
   ]
  },
  {
   "cell_type": "markdown",
   "metadata": {},
   "source": [
    "\\begin{align}\n",
    "(AB)^{-1} = B^{-1}A^{-1}\n",
    "\\end{align}\n",
    "\n",
    "A matrix that has an inverse is called *Non Singular Matrix*, otherwise its called \n",
    "*Singular Matrix*. A singular matrix has at least one row (or column) that has a linear \n",
    "relationship with another row (or column).\n"
   ]
  },
  {
   "cell_type": "markdown",
   "metadata": {},
   "source": [
    "### Determinant of a matrix ###\n",
    "\n",
    "$$det(A) = |A| = det\n",
    " \\begin{bmatrix}\n",
    "  a & b \\\\\n",
    "  c & d \\\\  \n",
    " \\end{bmatrix} = \\mathbf{ad} - \\mathbf{bc} $$\n",
    "Determinant of a matrix is zero if the matrix is singular. A matrix with zero determinant has no inverse. To inverse a matrix, use determinant and cofactors as below\n",
    "$$\\mathbf{A}^{-1} = \\begin{bmatrix}\n",
    "  a & b \\\\\n",
    "  c & d \\\\  \n",
    " \\end{bmatrix}^{-1} = \\frac{1}{\\mid A \\mid} = \\frac{1}{\\mathbf{ad} - \\mathbf{bc}} \\begin{bmatrix}\n",
    "  d & -b \\\\\n",
    "  -c & a \\\\  \n",
    " \\end{bmatrix}$$"
   ]
  },
  {
   "cell_type": "code",
   "execution_count": 5,
   "metadata": {
    "collapsed": false
   },
   "outputs": [
    {
     "name": "stdout",
     "output_type": "stream",
     "text": [
      "Determinant:\n",
      "-2.0\n",
      "Cofactor Matrix:\n",
      "[[ 4. -2.]\n",
      " [-3.  1.]]\n",
      "Inverse matrix:\n",
      "[[-2.   1. ]\n",
      " [ 1.5 -0.5]]\n",
      "Inverse matrix using Numpy Inverse:\n",
      "[[-2.   1. ]\n",
      " [ 1.5 -0.5]]\n"
     ]
    }
   ],
   "source": [
    "A = np.array([[1,2],[3,4]], dtype=np.float64)\n",
    "\n",
    "det = np.linalg.det(A)\n",
    "print ('Determinant:\\n%s' % det)\n",
    "\n",
    "def matrix_cofactor(mat):\n",
    "    C = np.zeros(mat.shape)\n",
    "    nrows, ncols = C.shape\n",
    "    for row in xrange(nrows):\n",
    "        for col in xrange(ncols):\n",
    "            minor = mat[np.array(range(row)+range(row+1,nrows))[:,np.newaxis],\n",
    "                           np.array(range(col)+range(col+1,ncols))]\n",
    "            C[row, col] = (-1)**(row+col) * np.linalg.det(minor)\n",
    "    return np.transpose(C)\n",
    "\n",
    "cofactorMatrix = matrix_cofactor(np.asmatrix(A))\n",
    "print ('Cofactor Matrix:\\n%s' % cofactorMatrix)\n",
    "\n",
    "a_inverse = np.multiply(1./det , cofactorMatrix)\n",
    "print ('Inverse matrix:\\n%s' % a_inverse)\n",
    "\n",
    "print ('Inverse matrix using Numpy Inverse:\\n%s' % np.linalg.inv(A))"
   ]
  },
  {
   "cell_type": "markdown",
   "metadata": {
    "collapsed": false
   },
   "source": [
    "### Solving system of linear equations ###\n",
    "A system of linear equations can be represented as $\\mathbf{Ax} = \\mathbf{b}$ where $\\mathbf{A}$ is matrix of coefficients, $\\mathbf{x}$ is the vector of variables and $\\mathbf{b}$ is a vector of constants. $\\mathbf{A}$ must be a square non-singular matrix which has an inverse. The solution is given by $$\\mathbf{x} = \\mathbf{A}^{-1}\\mathbf{b}$$"
   ]
  },
  {
   "cell_type": "code",
   "execution_count": 6,
   "metadata": {
    "collapsed": false
   },
   "outputs": [
    {
     "name": "stdout",
     "output_type": "stream",
     "text": [
      "solution :\n",
      "[ 2.   -0.25 -0.5 ]\n"
     ]
    }
   ],
   "source": [
    "A = np.array([[1,-2,3],[2,4,0],[0,2,-1]])\n",
    "b = np.array([1,3,0])\n",
    "x = np.linalg.solve(A,b)\n",
    "print ('solution :\\n%s' % x)"
   ]
  },
  {
   "cell_type": "code",
   "execution_count": null,
   "metadata": {
    "collapsed": true
   },
   "outputs": [],
   "source": []
  }
 ],
 "metadata": {
  "anaconda-cloud": {},
  "kernelspec": {
   "display_name": "Python [Root]",
   "language": "python",
   "name": "Python [Root]"
  },
  "language_info": {
   "codemirror_mode": {
    "name": "ipython",
    "version": 2
   },
   "file_extension": ".py",
   "mimetype": "text/x-python",
   "name": "python",
   "nbconvert_exporter": "python",
   "pygments_lexer": "ipython2",
   "version": "2.7.12"
  }
 },
 "nbformat": 4,
 "nbformat_minor": 0
}
